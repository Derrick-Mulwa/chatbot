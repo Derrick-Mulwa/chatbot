{
 "cells": [
  {
   "cell_type": "code",
   "execution_count": 1,
   "id": "4d7045a3",
   "metadata": {},
   "outputs": [],
   "source": [
    "import openai"
   ]
  },
  {
   "cell_type": "code",
   "execution_count": 4,
   "id": "accb91a8",
   "metadata": {
    "scrolled": true
   },
   "outputs": [
    {
     "name": "stdout",
     "output_type": "stream",
     "text": [
      "User : sadam hussein\n",
      "ChatGPT: Saddam Hussein was a former President of Iraq, who was in power from 1979 until 2003 when he was removed from power by a coalition of countries led by the United States. He was known for his authoritarian regime, human rights abuses, and involvement in various conflicts, including the Iran-Iraq War and the Gulf War. Saddam Hussein was ultimately tried and sentenced to death by hanging for crimes against humanity committed during his reign.\n",
      "User : more about him\n",
      "ChatGPT: Saddam Hussein was born on April 28, 1937, in Tikrit, Iraq. He joined the Arab Socialist Ba'ath Party in 1957 and became the party's secretary-general in 1979. That same year, he was sworn in as the President of Iraq.\n",
      "\n",
      "During Saddam's rule, Iraq experienced a period of rapid modernization and economic growth, but also was known for its human rights abuses, suppression of political dissent, and involvement in conflicts with neighboring countries.\n",
      "\n",
      "Saddam was particularly known for using chemical weapons against his own people, as well as during the Iran-Iraq War. He is also believed to have been responsible for the killings of thousands of Iraqi Kurds in the late 1980s and early 1990s.\n",
      "\n",
      "In 1990, Saddam's forces invaded Kuwait, leading to the first Gulf War. Iraq was eventually defeated by a coalition of United Nations forces led by the United States. Following the war, Saddam faced increased international scrutiny and sanctions, which severely hurt the Iraqi economy.\n",
      "\n",
      "In 2003, the United States and its allies invaded Iraq, leading to Saddam's capture nine months later. He was eventually tried and sentenced to death for crimes against humanity, including his role in the deaths of 148 Iraqi Shi'ites, who were executed after a failed assassination attempt against him. Saddam Hussein was executed by hanging on December 30, 2006.\n",
      "User : more about him\n",
      "ChatGPT: Saddam Hussein grew up in a poor family and was orphaned at a young age. He joined the Ba'ath Party's Iraq branch while he was in college in the late 1950s and became involved in a failed coup attempt in 1963.\n",
      "\n",
      "After spending several years in prison, Saddam took control of the Ba’ath Party in Iraq in 1979, after which he imposed an authoritarian regime characterized by widespread human rights abuses, political purges, and a cult of personality around himself.\n",
      "\n",
      "His government was responsible for the deaths of tens of thousands of people, including political dissidents, religious minorities, and civilians who were suspected of opposing his regime.\n",
      "\n",
      "Saddam was also known for his aggressive foreign policy and military ventures. He led Iraq into a long and bloody war with neighboring Iran that lasted from 1980 to 1988.\n",
      "\n",
      "In 1990, Saddam ordered the invasion of Kuwait, leading to the first Gulf War. Following Iraq's defeat, the UN imposed sanctions that imposed further hardship on the country's already struggling economy.\n",
      "\n",
      "Despite his brutal regime, Saddam's charisma and strong leadership won him support among many Iraqis, particularly those within the Sunni Arab population.\n",
      "\n",
      "Saddam was captured by US forces in December 2003, hiding in a hole near his hometown of Tikrit. He was eventually tried and convicted for crimes against humanity by an Iraqi court in 2006.\n",
      "User : more about him\n",
      "ChatGPT: Saddam Hussein was known for his lavish spending on personal luxuries such as multiple palaces and yachts. He also extended his power by placing close family members and loyalists in key positions of power and government.\n",
      "\n",
      "During his reign, Saddam built a large security apparatus to maintain his control, including the elite Republican Guard, which served as his personal military force. He also created a large intelligence service that used torture, forced disappearances, and extrajudicial executions to quell dissent.\n",
      "\n",
      "His regime was also known for its use of terrorism and insurgency tactics against Iraq's Shia Muslim majority. Saddam's government regularly targeted Shia mosques and communities, using tactics ranging from assassinations and bombings to targeted killings and death squads.\n",
      "\n",
      "Saddam was forced to confront multiple uprisings and rebellions during his decades in power, including the Kurdish insurrection in the late 1970s and the Shia uprising following the Gulf War.\n",
      "\n",
      "Despite his brutal tactics, Saddam remained a popular figure among some Iraqis, particularly Sunnis who were favored during his reign. Many Iraqis also resented the US-led invasion in 2003 and the subsequent sectarian violence that followed.\n",
      "\n",
      "Saddam's capture and trial marked the end of an era in Iraqi history, but also led to a period of turmoil and instability that has continued to this day.\n",
      "User : more about him\n",
      "ChatGPT: Saddam Hussein's leadership was characterized by his ambition to position himself as a major player on the world stage. He positioned Iraq as a key player in the Middle East and tried to position himself as a leader of the Arab world.\n",
      "\n",
      "Saddam supported Palestinian terrorist groups against Israel and hosted Arab League summits to try to unify Arab countries against Israel. He also tried to form an alliance with Syria and Iran, two countries that Iraq had fought against in the past.\n",
      "\n",
      "Saddam also tried to develop Iraq's capabilities in military technology, including the development of chemical, biological, and nuclear weapons. He defied UN inspectors and sanctions by continuing to develop his military programs, leading to growing speculation in the international community about his intentions and capabilities.\n",
      "\n",
      "During the Gulf War, Saddam launched Scud missiles into Israel and Saudi Arabia, leading to the deaths of civilians and extensive destruction. Following the war, Saddam refused to cooperate with UN inspectors seeking to verify Iraq's compliance with disarmament agreements.\n",
      "\n",
      "In addition to his military ambitions, Saddam was also known for his love of the arts and its patronage. He was known to be a voracious reader and writer of poetry and was a supporter of Iraqi artists and writers.\n",
      "\n",
      "Despite his love for the arts and culture, Saddam's regime was seen by many as oppressive and authoritarian. His legacy is complicated, with some Iraqis viewing him as a strong leader who provided stability, while others view him as a tyrant who terrorized his people for decades.\n",
      "User : more about him\n",
      "ChatGPT: Saddam Hussein was also known for his elaborate public ceremonies and parades, which were designed to showcase his power and unite Iraqis behind him. He was known for his political speeches, which featured themes of modernization, development, and Arab unity.\n",
      "\n",
      "However, Saddam's rule also saw the Iraq-Iran War, which lasted for eight years and resulted in over a million deaths. During the war, Iraq carried out a number of chemical attacks on Iranian military and civilian populations.\n",
      "\n",
      "After Iraq's defeat in the Gulf War, the country was subject to crippling economic sanctions, leading to widespread poverty and hunger. The sanctions also hurt Iraq's healthcare system and led to the deaths of many children due to malnutrition and preventable diseases.\n",
      "\n",
      "Saddam also faced several assassination attempts against him during his time in power, including a plot by the CIA in 1995. Despite these attempts, he remained in power until 2003, when he was removed from power by a US-led coalition, leading to his eventual downfall.\n",
      "\n",
      "Saddam's legacy continues to be debated and remains a controversial figure in Iraqi history. While some regard him as a hero who defended Iraq from foreign aggression, others view him as a tyrant who presided over a regime characterized by human rights abuses and atrocities.\n"
     ]
    },
    {
     "ename": "KeyboardInterrupt",
     "evalue": "Interrupted by user",
     "output_type": "error",
     "traceback": [
      "\u001b[1;31m---------------------------------------------------------------------------\u001b[0m",
      "\u001b[1;31mKeyboardInterrupt\u001b[0m                         Traceback (most recent call last)",
      "Input \u001b[1;32mIn [4]\u001b[0m, in \u001b[0;36m<cell line: 10>\u001b[1;34m()\u001b[0m\n\u001b[0;32m      4\u001b[0m messages \u001b[38;5;241m=\u001b[39m [\n\u001b[0;32m      5\u001b[0m     {\u001b[38;5;124m\"\u001b[39m\u001b[38;5;124mrole\u001b[39m\u001b[38;5;124m\"\u001b[39m: \u001b[38;5;124m\"\u001b[39m\u001b[38;5;124msystem\u001b[39m\u001b[38;5;124m\"\u001b[39m, \u001b[38;5;124m\"\u001b[39m\u001b[38;5;124mcontent\u001b[39m\u001b[38;5;124m\"\u001b[39m: \u001b[38;5;124m\"\u001b[39m\u001b[38;5;124mYou are a kind helpful assistant.\u001b[39m\u001b[38;5;124m\"\u001b[39m},\n\u001b[0;32m      6\u001b[0m ]\n\u001b[0;32m      9\u001b[0m \u001b[38;5;28;01mwhile\u001b[39;00m \u001b[38;5;28;01mTrue\u001b[39;00m:\n\u001b[1;32m---> 10\u001b[0m     message \u001b[38;5;241m=\u001b[39m \u001b[38;5;28;43minput\u001b[39;49m\u001b[43m(\u001b[49m\u001b[38;5;124;43m\"\u001b[39;49m\u001b[38;5;124;43mUser : \u001b[39;49m\u001b[38;5;124;43m\"\u001b[39;49m\u001b[43m)\u001b[49m\n\u001b[0;32m     11\u001b[0m     \u001b[38;5;28;01mif\u001b[39;00m message:\n\u001b[0;32m     12\u001b[0m         messages\u001b[38;5;241m.\u001b[39mappend(\n\u001b[0;32m     13\u001b[0m             {\u001b[38;5;124m\"\u001b[39m\u001b[38;5;124mrole\u001b[39m\u001b[38;5;124m\"\u001b[39m: \u001b[38;5;124m\"\u001b[39m\u001b[38;5;124muser\u001b[39m\u001b[38;5;124m\"\u001b[39m, \u001b[38;5;124m\"\u001b[39m\u001b[38;5;124mcontent\u001b[39m\u001b[38;5;124m\"\u001b[39m: message},\n\u001b[0;32m     14\u001b[0m         )\n",
      "File \u001b[1;32m~\\anaconda3\\lib\\site-packages\\ipykernel\\kernelbase.py:1075\u001b[0m, in \u001b[0;36mKernel.raw_input\u001b[1;34m(self, prompt)\u001b[0m\n\u001b[0;32m   1071\u001b[0m \u001b[38;5;28;01mif\u001b[39;00m \u001b[38;5;129;01mnot\u001b[39;00m \u001b[38;5;28mself\u001b[39m\u001b[38;5;241m.\u001b[39m_allow_stdin:\n\u001b[0;32m   1072\u001b[0m     \u001b[38;5;28;01mraise\u001b[39;00m StdinNotImplementedError(\n\u001b[0;32m   1073\u001b[0m         \u001b[38;5;124m\"\u001b[39m\u001b[38;5;124mraw_input was called, but this frontend does not support input requests.\u001b[39m\u001b[38;5;124m\"\u001b[39m\n\u001b[0;32m   1074\u001b[0m     )\n\u001b[1;32m-> 1075\u001b[0m \u001b[38;5;28;01mreturn\u001b[39;00m \u001b[38;5;28;43mself\u001b[39;49m\u001b[38;5;241;43m.\u001b[39;49m\u001b[43m_input_request\u001b[49m\u001b[43m(\u001b[49m\n\u001b[0;32m   1076\u001b[0m \u001b[43m    \u001b[49m\u001b[38;5;28;43mstr\u001b[39;49m\u001b[43m(\u001b[49m\u001b[43mprompt\u001b[49m\u001b[43m)\u001b[49m\u001b[43m,\u001b[49m\n\u001b[0;32m   1077\u001b[0m \u001b[43m    \u001b[49m\u001b[38;5;28;43mself\u001b[39;49m\u001b[38;5;241;43m.\u001b[39;49m\u001b[43m_parent_ident\u001b[49m\u001b[43m[\u001b[49m\u001b[38;5;124;43m\"\u001b[39;49m\u001b[38;5;124;43mshell\u001b[39;49m\u001b[38;5;124;43m\"\u001b[39;49m\u001b[43m]\u001b[49m\u001b[43m,\u001b[49m\n\u001b[0;32m   1078\u001b[0m \u001b[43m    \u001b[49m\u001b[38;5;28;43mself\u001b[39;49m\u001b[38;5;241;43m.\u001b[39;49m\u001b[43mget_parent\u001b[49m\u001b[43m(\u001b[49m\u001b[38;5;124;43m\"\u001b[39;49m\u001b[38;5;124;43mshell\u001b[39;49m\u001b[38;5;124;43m\"\u001b[39;49m\u001b[43m)\u001b[49m\u001b[43m,\u001b[49m\n\u001b[0;32m   1079\u001b[0m \u001b[43m    \u001b[49m\u001b[43mpassword\u001b[49m\u001b[38;5;241;43m=\u001b[39;49m\u001b[38;5;28;43;01mFalse\u001b[39;49;00m\u001b[43m,\u001b[49m\n\u001b[0;32m   1080\u001b[0m \u001b[43m\u001b[49m\u001b[43m)\u001b[49m\n",
      "File \u001b[1;32m~\\anaconda3\\lib\\site-packages\\ipykernel\\kernelbase.py:1120\u001b[0m, in \u001b[0;36mKernel._input_request\u001b[1;34m(self, prompt, ident, parent, password)\u001b[0m\n\u001b[0;32m   1117\u001b[0m             \u001b[38;5;28;01mbreak\u001b[39;00m\n\u001b[0;32m   1118\u001b[0m \u001b[38;5;28;01mexcept\u001b[39;00m \u001b[38;5;167;01mKeyboardInterrupt\u001b[39;00m:\n\u001b[0;32m   1119\u001b[0m     \u001b[38;5;66;03m# re-raise KeyboardInterrupt, to truncate traceback\u001b[39;00m\n\u001b[1;32m-> 1120\u001b[0m     \u001b[38;5;28;01mraise\u001b[39;00m \u001b[38;5;167;01mKeyboardInterrupt\u001b[39;00m(\u001b[38;5;124m\"\u001b[39m\u001b[38;5;124mInterrupted by user\u001b[39m\u001b[38;5;124m\"\u001b[39m) \u001b[38;5;28;01mfrom\u001b[39;00m \u001b[38;5;28mNone\u001b[39m\n\u001b[0;32m   1121\u001b[0m \u001b[38;5;28;01mexcept\u001b[39;00m \u001b[38;5;167;01mException\u001b[39;00m:\n\u001b[0;32m   1122\u001b[0m     \u001b[38;5;28mself\u001b[39m\u001b[38;5;241m.\u001b[39mlog\u001b[38;5;241m.\u001b[39mwarning(\u001b[38;5;124m\"\u001b[39m\u001b[38;5;124mInvalid Message:\u001b[39m\u001b[38;5;124m\"\u001b[39m, exc_info\u001b[38;5;241m=\u001b[39m\u001b[38;5;28;01mTrue\u001b[39;00m)\n",
      "\u001b[1;31mKeyboardInterrupt\u001b[0m: Interrupted by user"
     ]
    }
   ],
   "source": [
    "\n",
    "openai.api_key = 'your openai key'\n",
    "\n",
    "\n",
    "messages = [\n",
    "    {\"role\": \"system\", \"content\": \"You are a kind helpful assistant.\"},\n",
    "]\n",
    "     \n",
    "\n",
    "while True:\n",
    "    message = input(\"User : \")\n",
    "    if message:\n",
    "        messages.append(\n",
    "            {\"role\": \"user\", \"content\": message},\n",
    "        )\n",
    "        chat = openai.ChatCompletion.create(\n",
    "            model=\"gpt-3.5-turbo-0301\", messages=messages\n",
    "        )\n",
    "    \n",
    "    reply = chat.choices[0].message.content\n",
    "    print(f\"ChatGPT: {reply}\")\n",
    "    messages.append({\"role\": \"assistant\", \"content\": reply})\n"
   ]
  },
  {
   "cell_type": "code",
   "execution_count": null,
   "id": "f0f98839",
   "metadata": {},
   "outputs": [],
   "source": [
    "import pandas as pd\n",
    "import numpy as np\n"
   ]
  },
  {
   "cell_type": "code",
   "execution_count": null,
   "id": "034a79a5",
   "metadata": {},
   "outputs": [],
   "source": []
  },
  {
   "cell_type": "code",
   "execution_count": null,
   "id": "f091b2e5",
   "metadata": {},
   "outputs": [],
   "source": []
  },
  {
   "cell_type": "code",
   "execution_count": null,
   "id": "902ccb78",
   "metadata": {},
   "outputs": [],
   "source": []
  }
 ],
 "metadata": {
  "kernelspec": {
   "display_name": "Python 3 (ipykernel)",
   "language": "python",
   "name": "python3"
  },
  "language_info": {
   "codemirror_mode": {
    "name": "ipython",
    "version": 3
   },
   "file_extension": ".py",
   "mimetype": "text/x-python",
   "name": "python",
   "nbconvert_exporter": "python",
   "pygments_lexer": "ipython3",
   "version": "3.9.12"
  }
 },
 "nbformat": 4,
 "nbformat_minor": 5
}
